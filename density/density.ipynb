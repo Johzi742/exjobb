{
 "cells": [
  {
   "cell_type": "markdown",
   "metadata": {},
   "source": [
    "[MRC format](http://www.ccpem.ac.uk/mrc_format/mrc2014.php)\n",
    "\n",
    "\n",
    "1\t1-4\tNX\tnumber of columns in 3D data array (fast axis)\t1\n",
    "2\t5-8\tNY\tnumber of rows in 3D data array (medium axis)\t\n",
    "3\t9-12\tNZ\tnumber of sections in 3D data array (slow axis)\t\n",
    "4\t13-16\tMODE\t0 8-bit signed integer (range -128 to 127) \n",
    "1 16-bit signed integer\n",
    "2 32-bit signed real\n",
    "3 transform : complex 16-bit integers\n",
    "4 transform : complex 32-bit reals\n",
    "6 16-bit unsigned integer\t2\n",
    "5\t17-20\tNXSTART\tlocation of first column in unit cell\t\n",
    "6\t21-24\tNYSTART\tlocation of first row in unit cell\t\n",
    "7\t25-28\tNZSTART\tlocation of first section in unit cell\t\n",
    "8\t29-32\tMX\tsampling along X axis of unit cell\t\n",
    "9\t33-36\tMY\tsampling along Y axis of unit cell\t\n",
    "10\t37-40\tMZ\tsampling along Z axis of unit cell\t3\n",
    "11-13\t41-52\tCELLA\tcell dimensions in angstroms\t\n",
    "14-16\t53-64\tCELLB\tcell angles in degrees\t\n"
   ]
  },
  {
   "cell_type": "code",
   "execution_count": null,
   "metadata": {
    "collapsed": true
   },
   "outputs": [],
   "source": [
    "import mrcfile  \n",
    "import numpy as np\n",
    "\n",
    "\n",
    "example_data ="
   ]
  },
  {
   "cell_type": "code",
   "execution_count": 36,
   "metadata": {},
   "outputs": [
    {
     "name": "stdout",
     "output_type": "stream",
     "text": [
      "(100, 100, 100, 2, 0, 0, 0, 100, 100, 100, ( 0.,  0.,  0.), ( 90.,  90.,  90.), 1, 2, 3,   8.22009980e-08,  0.99999982,  0.50017655, 1, 0, \u0000\u0000\u0000\u0000\u0000\u0000\u0000\u0000, '', 20140, \u0000\u0000\u0000\u0000\u0000\u0000\u0000\u0000\u0000\u0000\u0000\u0000\u0000\u0000\u0000\u0000\u0000\u0000\u0000\u0000\u0000\u0000\u0000\u0000\u0000\u0000\u0000\u0000\u0000\u0000\u0000\u0000\u0000\u0000\u0000\u0000\u0000\u0000\u0000\u0000\u0000\u0000\u0000\u0000\u0000\u0000\u0000\u0000\u0000\u0000\u0000\u0000\u0000\u0000\u0000\u0000\u0000\u0000\u0000\u0000\u0000\u0000\u0000\u0000\u0000\u0000\u0000\u0000\u0000\u0000\u0000\u0000\u0000\u0000\u0000\u0000\u0000\u0000\u0000\u0000\u0000\u0000\u0000\u0000, ( 0.,  0.,  0.), 'MAP ', [68, 68,  0,  0],  0.28881198, 1, ['Created by mrcfile.py                                        2018-01-24 17:22:00', '', '', '', '', '', '', '', '', ''])\n",
      "100\n",
      "0\n",
      "0\n",
      "( 0.,  0.,  0.)\n"
     ]
    }
   ],
   "source": [
    "import mrcfile  \n",
    "import numpy as np\n",
    "\n",
    "\n",
    "example_data = np.random.random(100*100*100).reshape(100,100,100)\n",
    "#print example_data.shape\n",
    "example_data=example_data.astype(np.float32)\n",
    "#.reshape(10, 10,10)\n",
    "\n",
    "#print example_data\n",
    "\n",
    "with mrcfile.new('tmp.mrc',overwrite=True) as mrc:\n",
    "     mrc.set_data(example_data)\n",
    "mrc=mrcfile.open('tmp.mrc')\n",
    "print mrc.header\n",
    "print mrc.header.nx\n",
    "print mrc.header.nxstart\n",
    "print mrc.header.nxstart\n",
    "print mrc.header.cella"
   ]
  },
  {
   "cell_type": "code",
   "execution_count": 13,
   "metadata": {},
   "outputs": [
    {
     "name": "stdout",
     "output_type": "stream",
     "text": [
      "(73, 43, 25, 2, 0, -21, -12, 40, 12, 72, ( 17.93000031,  4.71000004,  33.02999878), ( 90.,  94.3259964,  90.), 3, 1, 2, -0.36814296,  0.72161025,  0.00053297, 4, 160, \u0000\u0000\u0000\u0000\u0000\u0000\u0000\u0000, '', 0, \u0000\u0000\u0000\u0000\u0000\u0000\u0000\u0000\u0000\u0000\u0000\u0000\u0000\u0000\u0000\u0000\u0000\u0000\u0000\u0000\u0000\u0000\u0000\u0000\u0000\u0000\u0000\u0000\u0000\u0000\u0000\u0000\u0000\u0000\u0000\u0000\u0000\u0000\u0000\u0000\u0000\u0000\u0000\u0000\u0000\u0000\u0000\u0000\u0000\u0000\u0000\u0000\u0000\u0000\u0000\u0000\u0000\u0000\u0000\u0000\u0000\u0000\u0000\u0000\u0000\u0000\u0000\u0000\u0000\u0000\u0000\u0000\u0000\u0000\u0000\u0000\u0000\u0000\u0000\u0000\u0000\u0000\u0000\u0000, ( 0.,  0.,  0.), 'MAP ', [68, 65,  0,  0],  0.15705723, 1, ['::::EMDATABANK.org::::EMD-3001::::                                              ', '                                                                                ', '                                                                                ', '                                                                                ', '                                                                                ', '                                                                                ', '                                                                                ', '                                                                                ', '                                                                                ', '                                                                                '])\n",
      "-21\n",
      "-10\n"
     ]
    }
   ],
   "source": [
    "mrc = mrcfile.open('EMD-3001.map', mode='r+')\n",
    "print mrc.header\n",
    "print mrc.header.nystart\n",
    "\n",
    "mrc.header.nystart=-10\n",
    "print mrc.header.nystart"
   ]
  },
  {
   "cell_type": "code",
   "execution_count": null,
   "metadata": {
    "collapsed": true
   },
   "outputs": [],
   "source": []
  },
  {
   "cell_type": "code",
   "execution_count": null,
   "metadata": {
    "collapsed": true
   },
   "outputs": [],
   "source": []
  }
 ],
 "metadata": {
  "kernelspec": {
   "display_name": "Python [default]",
   "language": "python",
   "name": "python2"
  },
  "language_info": {
   "codemirror_mode": {
    "name": "ipython",
    "version": 2
   },
   "file_extension": ".py",
   "mimetype": "text/x-python",
   "name": "python",
   "nbconvert_exporter": "python",
   "pygments_lexer": "ipython2",
   "version": "2.7.14"
  }
 },
 "nbformat": 4,
 "nbformat_minor": 2
}
