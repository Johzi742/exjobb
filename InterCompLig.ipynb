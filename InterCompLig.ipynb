{
 "cells": [
  {
   "cell_type": "markdown",
   "metadata": {},
   "source": [
    "# InterComp for Small-Molecule Ligands #\n",
    "\n",
    "Adapt [InterComp](https://doi.org/10.1101/235812) for comparison of small-molcule ligands.\n",
    "\n",
    "This includes:\n",
    "\n",
    "    * Assessing statistical significance for small-molcule comparisons\n",
    "    * Chemical similarity\n",
    "    * Benchmark against similar software LIGSIFT\n",
    "\n",
    "Similar software is described here:\n",
    "http://cssb.biology.gatech.edu/LIGSIFT\n",
    "\n"
   ]
  }
 ],
 "metadata": {
  "kernelspec": {
   "display_name": "Python [default]",
   "language": "python",
   "name": "python2"
  },
  "language_info": {
   "codemirror_mode": {
    "name": "ipython",
    "version": 2
   },
   "file_extension": ".py",
   "mimetype": "text/x-python",
   "name": "python",
   "nbconvert_exporter": "python",
   "pygments_lexer": "ipython2",
   "version": "2.7.13"
  }
 },
 "nbformat": 4,
 "nbformat_minor": 2
}
