{
 "cells": [
  {
   "cell_type": "markdown",
   "metadata": {},
   "source": [
    "# Useful links, tutorials, and reads when starting a Bioinformatics project #\n",
    "\n",
    "This simple page contain links to various sources that are good to know\n",
    "before and during a Bioinformatics project. It is written using\n",
    "[Markdown](https://bitbucket.org/tutorials/markdowndemo) which is\n",
    "simple mark-up language to produce a richer experience over a simple\n",
    "text file.\n",
    "\n",
    "\n",
    "\n",
    "\n",
    "### Installation ###\n",
    "\n",
    "1. Create an SNIC user at https://supr.snic.se/person/register/new/? this will allow you\n",
    "access to the SuperComputing Resources available to the\n",
    "group. Currently, around 300,000 core hours/month.\n",
    "       * When you have gotten the SUPR account apply to membership in all the projects: https://supr.snic.se/project/request/?search=wallner\n",
    "\n",
    "\n",
    "\n",
    "# Learn some stuff #\n",
    "\n",
    "\n",
    "\n",
    "### Python ###\n",
    "\n",
    "\n",
    "\n",
    "We are still using Python 2, mostly because it works and we have not seen any reason to move to Python 3.\n",
    "These quite old articles still hold:\n",
    "\n",
    "* https://learntocodewith.me/programming/python/python-2-vs-python-3/\n",
    "* http://blog.thezerobit.com/2014/05/25/python-3-is-killing-python.html\n",
    "\n",
    "Code Academy is good place to learn python interactively. \n",
    "\n",
    "* https://www.codecademy.com/learn/learn-python\n",
    "\n",
    "We can also recommend the Google Python Class that contains Videos lectures as well.\n",
    "\n",
    "* https://developers.google.com/edu/python/\n",
    "\n",
    "\n",
    "### Specific python modules ###\n",
    "\n",
    "Here is a list of the most common modules we are using. They can be installed using for instance:\n",
    "\n",
    "```\n",
    "pip install scipy\n",
    "pip install scikit-learn\n",
    "pip install seaborn\n",
    "\n",
    "```\n",
    "\n",
    "[SciPy](https://www.scipy.org) (pronounced “Sigh Pie”) contains these core packages:\n",
    "\n",
    "* NumPy - Base N-dimensional array package\n",
    "* SciPy library - Fundamental library for scientific computing\n",
    "* Matplotlib - Comprehensive 2D Plotting\n",
    "* IPython - Enhanced Interactive Console\n",
    "* Sympy - Symbolic mathematics\n",
    "* pandas - Data structures & analysis\n",
    "\n",
    "\n",
    "\n",
    "[scikit-learn](http://scikit-learn.org/) is the package we use to do machine learning.\n",
    "\n",
    "[scikit-learn tutorials](http://scikit-learn.org/stable/tutorial/index.html) contains an introduction to scikit-learn. \n",
    "\n",
    "[seaborn](https://seaborn.pydata.org) is used to produce publication grade plots with minimal effort.\n",
    "\n",
    "\n",
    "\n",
    "\n",
    "### Problems and comments ###\n",
    "\n",
    "Send an email to bjornw_AT_ifm.liu.se\n",
    "\n",
    "\n",
    "\n"
   ]
  },
  {
   "cell_type": "markdown",
   "metadata": {},
   "source": [
    "\n",
    "### Jupyter ###\n",
    "Jupyter is a notebook system that enables you to write code, run it and document it in an iteractive environment. It is strongly suggesed that you use it.\n",
    "\n",
    "\n",
    "#### securing the notebook ####\n",
    "From: http://jupyter-notebook.readthedocs.io/en/stable/public_server.html#notebook-server-security\n",
    "\n",
    "First generate a config file you do not already have one.\n",
    "```\n",
    "jupyter notebook --generate-config\n",
    "\n",
    "```\n",
    "Prepare a hashed password using the following code:"
   ]
  },
  {
   "cell_type": "code",
   "execution_count": 8,
   "metadata": {
    "collapsed": false
   },
   "outputs": [
    {
     "name": "stdout",
     "output_type": "stream",
     "text": [
      "Enter password: ········\n",
      "Verify password: ········\n"
     ]
    },
    {
     "data": {
      "text/plain": [
       "'sha1:0c9e8d6a2381:46fb8d9d59e1d06b8bd105ddb96b6c03924ff20b'"
      ]
     },
     "execution_count": 8,
     "metadata": {},
     "output_type": "execute_result"
    }
   ],
   "source": [
    "from notebook.auth import passwd\n",
    "passwd()"
   ]
  },
  {
   "cell_type": "code",
   "execution_count": 7,
   "metadata": {
    "collapsed": false
   },
   "outputs": [
    {
     "ename": "ImportError",
     "evalue": "No module named hek",
     "output_type": "error",
     "traceback": [
      "\u001b[0;31m---------------------------------------------------------------------------\u001b[0m",
      "\u001b[0;31mImportError\u001b[0m                               Traceback (most recent call last)",
      "\u001b[0;32m<ipython-input-7-6f111dcfd751>\u001b[0m in \u001b[0;36m<module>\u001b[0;34m()\u001b[0m\n\u001b[1;32m      1\u001b[0m \u001b[0;32mimport\u001b[0m \u001b[0mpandas\u001b[0m \u001b[0;32mas\u001b[0m \u001b[0mpd\u001b[0m\u001b[0;34m\u001b[0m\u001b[0m\n\u001b[0;32m----> 2\u001b[0;31m \u001b[0;32mimport\u001b[0m \u001b[0mhek\u001b[0m\u001b[0;34m\u001b[0m\u001b[0m\n\u001b[0m",
      "\u001b[0;31mImportError\u001b[0m: No module named hek"
     ]
    }
   ],
   "source": []
  }
 ],
 "metadata": {
  "anaconda-cloud": {
   "environment": null,
   "summary": "wiki",
   "url": "https://anaconda.org/bjornwallner/wiki"
  },
  "celltoolbar": "Raw Cell Format",
  "kernelspec": {
   "display_name": "Python [default]",
   "language": "python",
   "name": "python2"
  },
  "language_info": {
   "codemirror_mode": {
    "name": "ipython",
    "version": 2
   },
   "file_extension": ".py",
   "mimetype": "text/x-python",
   "name": "python",
   "nbconvert_exporter": "python",
   "pygments_lexer": "ipython2",
   "version": "2.7.12"
  }
 },
 "nbformat": 4,
 "nbformat_minor": 1
}
